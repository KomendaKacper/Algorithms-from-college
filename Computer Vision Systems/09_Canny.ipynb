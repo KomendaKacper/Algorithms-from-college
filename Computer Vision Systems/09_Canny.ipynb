{
 "cells": [
  {
   "cell_type": "markdown",
   "metadata": {
    "pycharm": {
     "name": "#%% md\n"
    }
   },
   "source": [
    "# Detekcja krawędzi"
   ]
  },
  {
   "cell_type": "markdown",
   "metadata": {
    "collapsed": false,
    "pycharm": {
     "name": "#%% md\n"
    }
   },
   "source": [
    "## Cel ćwiczenia\n",
    "\n",
    "- Zapoznanie z metodami detekcji krawędzi:\n",
    "    - Sobel, Prewitt, Roberts - przypomnienie,\n",
    "    - Laplasjan z Gaussa (LoG – ang. Laplacian of Gaussian),\n",
    "    - Canny.\n",
    "\n",
    "Detekcja krawędzi przez wiele lat była podstawą algorytmów segmentacji.\n",
    "Krawędzie wykrywane są najczęściej z wykorzystaniem pierwszej (gradient) i drugiej (Laplasjan) pochodnej przestrzennej.\n",
    "Wykorzystanie obu metod zaprezentowane zostało w ćwiczeniu *Przetwarzanie wstępne. Filtracja kontekstowa*.\n",
    "\n",
    "W niniejszym ćwiczeniu poznane detektory krawędzi zostaną porównane z bardziej zaawansowanymi: Laplasjan z funkcji Gaussa (LoG), Zero Crossing i Canny."
   ]
  },
  {
   "cell_type": "markdown",
   "metadata": {
    "collapsed": false,
    "pycharm": {
     "name": "#%% md\n"
    }
   },
   "source": [
    "## Laplasjan z Gaussa (LoG)\n",
    "\n",
    "Funkcja Gaussa:<br>\n",
    "\\begin{equation}\n",
    "h(r) = e^{\\frac{-r^2}{2 \\sigma^2}}\n",
    "\\end{equation}<br>\n",
    "gdzie:\n",
    "- $r^2 = x^2 + y^2$\n",
    "- $\\sigma$ to odchylenie standardowe.\n",
    "\n",
    "Działanie filtracji Gaussowskiej zostało przedstawione w ćwiczeniu \"Przetwarzanie wstępne\". W jej wyniku następuje rozmazanie obrazu.\n",
    "Laplasjan tej funkcji dany jest wzorem:\n",
    "\n",
    "\\begin{equation}\n",
    "\\nabla^2 h(r) = \\frac{r^2 - 2\\sigma^2}{\\sigma^4} e^{-\\frac{r^2}{2\\sigma^2}}\n",
    "\\end{equation}\n",
    "\n",
    "Funkcję (z oczywistych powodów) nazywamy Laplasjan z Gaussa (LoG).\n",
    "Ponieważ druga pochodna jest operacją liniową, konwolucja obrazu z $\\nabla^2 h(r)$ daje taki sam efekt jak zastosowanie filtracji Gaussa na obrazie, a następnie obliczenie Laplasjanu z wyniku.\n",
    "Lokalizacja krawędzi polega na znalezieniu miejsca, gdzie po filtracji LoG następuje zmiana znaku.\n",
    "\n",
    "1. Wczytaj obraz *house.png*.\n",
    "2. Wykonaj rozmycie Gaussowskie obrazu wejściowego.\n",
    "W tym celu wykorzysaj funkcję `cv2.GaussianBlur(img, kSize, sigma)`.\n",
    "Pierwszy argument jest obrazem wejśćiowym.\n",
    "Drugi jest rozmiarem filtru (podanym w nawiasach okrągłych, np. *(3, 3)*).\n",
    "Trzecim argumentem jest odchylenie standardowe. Wartość jest dobrana automatycznie, jeśli zosanie podana wartość `0` (będą równe rozmiarowi).\n",
    "3. Oblicz laplasjan obrazu rozmytego.\n",
    "W tym celu wykorzysaj funkcję `cv2.Laplacian(img, ddepth)`.\n",
    "Pierszym argumentem jest obraz wejściowy.\n",
    "Drugim argumentem jest typ danych wejściowych. Użyj `cv2.CV_32F`.\n",
    "4. Wyznacz miejsca zmiany znaku.\n",
    "Zaimplementuj funkcję `crossing(LoG, thr)`:\n",
    "    - Najpierw stwórz tablicę, do której zostanie zapisany wynik.\n",
    "    Jej rozmiar jest taki sam jak przetwarzanego obrazu.\n",
    "    - Następnie wykonaj pętle po obrazie (bez ramki jednopikselowej).\n",
    "    W każdej iteracji stwórz otoczenie o rozmiarze $3 \\times 3$.\n",
    "    Dla otoczenia oblicz wartość maksymalną i minimalną.\n",
    "    - Jeśli wartości te mają przeciwne znaki, to do danego miejsca tablicy przypisz wartość:\n",
    "        - jeśli piksel wejściowy > 0, to dodaj do niego wartość bezwzględną minimum.\n",
    "        - jeśli piksel wejściowy < 0, to do jego wartości bezwzględnej dodaj maksimum.\n",
    "    - Zmień zakres wykonanej tablicy do $<0, 255>$.\n",
    "    - Wykonaj progowanie tablicy. Próg jest argumentem wejściowym.\n",
    "    - Przeskaluj dane binarne do wartości `[0, 255]`.\n",
    "    - Wykonaj konwersję do typu *uint8*.\n",
    "    - Wykonaj rozmycie medianowe wyniku.\n",
    "    Wykorzystaj funkcję `cv2.medianBlur(img, kSize)`.\n",
    "    Pierwszym argumentem jest obraz wejśćiowy, a drugim rozmiar filtra.\n",
    "    - Zwróć wyznaczoną tablicę.\n",
    "5. Wyświetl obraz wynikowy.\n",
    "6. Dobierz parametry (rozmiar filtru Gaussa, odchylenie standardowe, próg binaryzacji) tak, by widoczne były kontury domu, ale nie dachówki."
   ]
  },
  {
   "cell_type": "markdown",
   "metadata": {},
   "source": []
  },
  {
   "cell_type": "code",
   "execution_count": null,
   "metadata": {
    "collapsed": false,
    "pycharm": {
     "name": "#%% Zadanie 1 - LoG\n"
    }
   },
   "outputs": [],
   "source": [
    "import cv2\n",
    "from matplotlib import pyplot as plt\n",
    "import numpy as np\n",
    "import math\n",
    "import os\n",
    "\n",
    "if not os.path.exists(\"dom.png\") :\n",
    "    !wget https://raw.githubusercontent.com/vision-agh/poc_sw/master/09_Canny/dom.png --no-check-certificate\n",
    "\n"
   ]
  },
  {
   "cell_type": "code",
   "execution_count": null,
   "metadata": {},
   "outputs": [],
   "source": [
    "img = cv2.imread(\"dom.png\", cv2.IMREAD_GRAYSCALE)\n",
    "blurred = cv2.GaussianBlur(img, (5, 5), 0)\n",
    "laplacian = cv2.Laplacian(blurred, cv2.CV_32F)\n",
    "plt.imshow(img, cmap='gray')\n",
    "plt.figure()\n",
    "plt.imshow(laplacian, cmap='gray')"
   ]
  },
  {
   "cell_type": "code",
   "execution_count": null,
   "metadata": {},
   "outputs": [],
   "source": [
    "def crossing(LoG, thr):\n",
    "    rows, cols = LoG.shape\n",
    "    result = np.zeros((rows, cols), dtype=np.float32)\n",
    "\n",
    "    for i in range(1, rows - 1):\n",
    "        for j in range(1, cols - 1):\n",
    "            neighbors = LoG[i-1:i+2, j-1:j+2]\n",
    "            min_val = np.min(neighbors)\n",
    "            max_val = np.max(neighbors)\n",
    "            if min_val < 0 < max_val or max_val < 0 < min_val:\n",
    "                if LoG[i, j] > 0:\n",
    "                    result[i, j] = LoG[i, j] + np.abs(min_val)\n",
    "                elif LoG[i, j] < 0:\n",
    "                    result[i, j] = np.abs(LoG[i, j]) + max_val\n",
    "\n",
    "    result = cv2.normalize(result, None, alpha=0, beta=255, norm_type=cv2.NORM_MINMAX)\n",
    "    result = result.astype(np.uint8)\n",
    "    result = cv2.medianBlur(result, 5)\n",
    "\n",
    "    ret, result = cv2.threshold(result, thr, 255, cv2.THRESH_BINARY)\n",
    "\n",
    "    return result\n",
    "\n",
    "result = crossing(laplacian, 40)\n",
    "\n",
    "plt.imshow(result, cmap='gray')\n",
    "plt.axis('off')\n",
    "plt.show()\n"
   ]
  },
  {
   "cell_type": "markdown",
   "metadata": {
    "collapsed": false,
    "pycharm": {
     "name": "#%% md\n"
    }
   },
   "source": [
    "## Algorytm Canny'ego\n",
    "\n",
    "> Algorytm Canny'ego to często wykorzystywana metoda detekcji krawędzi.\n",
    "> Zaproponowana została w~1986r. przez Johna F. Cannego.\n",
    "> Przy jego projektowaniu założono trzy cele:\n",
    "> - niska liczba błędów - algorytm powinien znajdywać wszystkie krawędzie oraz generować jak najmniej fałszywych detekcji,\n",
    "> - punkty krawędziowe powinny być poprawnie lokalizowane - wykryte punkty powinny być jak najbardziej zbliżone do rzeczywistych,\n",
    "> - krawędzie o szerokości 1 piksela - algorytm powinien zwrócić jeden punkt dla każdej rzeczywistej krawędzi.\n",
    "\n",
    "Zaimplementuj pierwszą część algorytmu detekcji krawędzi Canny'ego:\n",
    "1. W pierwszym kroku obraz przefiltruj dwuwymiarowym filtrem Gaussa.\n",
    "2. Następnie oblicz gradient pionowy i poziomy ($g_x $ i $g_y$).\n",
    "Jedną z metod jest filtracja Sobela.\n",
    "3. Dalej oblicz amplitudę:\n",
    "$M(x,y)  = \\sqrt{g_x^2+g_y^2}$ oraz kąt:\n",
    "$\\alpha(x,y) = arctan(\\frac{g_y}{g_x})$.\n",
    "Do obliczenia kąta wykorzystaj funkcję `np.arctan2(x1, x2)`.\n",
    "Wynik jest w radianach.\n",
    "4. W kolejnym etapie wykonaj kwantyzację kątów gradientu.\n",
    "Kąty od $-180^\\circ$ do $180^\\circ$ można podzielić na 8 przedziałów:\n",
    "[$-22.5^\\circ, 22.5^\\circ$], [$22.5^\\circ, 67.5^\\circ$],\n",
    "[$67.5^\\circ, 112.5^\\circ$], [$112.5^\\circ, 157.5^\\circ$],\n",
    "[$157.5^\\circ, -157.5^\\circ$], [$-157.5^\\circ, -112.5^\\circ$],\n",
    "[$-112.5^\\circ, -67.5^\\circ$], [$-67.5^\\circ, -22.5^\\circ$].\n",
    "Przy czym należy rozpatrywać tylko 4 kierunki:\n",
    "    - pionowy ($d_1$),\n",
    "    - poziomy ($d_2$),\n",
    "    - skośny lewy ($d_3$),\n",
    "    - skośny prawy ($d_4$).\n",
    "5. Dalej przeprowadź eliminację pikseli, które nie mają wartości maksymalnej (ang. *nonmaximal suppresion*).\n",
    "Celem tej operacji jest redukcja szerokości krawędzi do rozmiaru 1 piksela.\n",
    "Algorytm przebiega następująco.\n",
    "W rozpatrywanym otoczeniu o rozmiarze $3 \\times 3$:\n",
    "    - określ do którego przedziału należy kierunek gradientu piksela centralnego ($d_1, d_2, d_3, d_4$).\n",
    "    - przeanalizuje sąsiadów leżących na tym kierunku.\n",
    "Jeśli choć jeden z nich ma amplitudę większą niż piksel centralny, to należy uznać, że nie jest lokalnym maksimum i do wyniku przypisać $g_N(x,y) = 0$.\n",
    "W przeciwnym przypadku $g_N(x,y) = M(x,y)$.\n",
    "Przez $g_N$ rozumiemy obraz detekcji lokalnych maksimów.\n",
    "Zaimplementuj funkcję `nonmax`.\n",
    "Pierwszym argementem jest macierz kierunków (po kwantyzacji).\n",
    "Drugim argumentem jest macierz amplitudy.\n",
    "6. Ostatnią operacją jest binaryzacja obrazu $g_N$.\n",
    "Stosuje się tutaj tzw. binaryzację z histerezą.\n",
    "Wykorzystuje się w niej dwa progi: $T_L$ i $T_H$, przy czym $T_L < T_H$.\n",
    "Canny zaproponował, aby stosunek progu wyższego do niższego był jak 3 lub 2 do 1.\n",
    "Rezultaty binaryzacji można opisać jako:<br>\n",
    "$g_{NH}(x,y) = g_N(x,y) \\geq TH $<br>\n",
    "$g_{NL}(x,y) = TH > g_N(x,y) \\geq TL $<br>\n",
    "Można powiedzieć, że na obrazie $g_{NH}$ są \"pewne\" krawędzie.\n",
    "Natomiast na $g_{NL}$ \"potencjalne\".\n",
    "7. Na jednym obrazie zaznacz piksele należące do obrazu $g_{NH}$ jako czerwone oraz należące do obrazu $g_{NL}$ jako niebieskie.\n",
    "Wyświetl obraz."
   ]
  },
  {
   "cell_type": "code",
   "execution_count": null,
   "metadata": {
    "collapsed": false,
    "pycharm": {
     "name": "#%% Zadanie 2 - Canny\n"
    }
   },
   "outputs": [],
   "source": [
    "blurred = cv2.GaussianBlur(img, (5, 5), 0)\n",
    "sobelx = cv2.Sobel(blurred, cv2.CV_64F, 1, 0, ksize=3)\n",
    "sobely = cv2.Sobel(blurred, cv2.CV_64F, 0, 1, ksize=3)\n",
    "magnitude = np.sqrt(sobelx**2 + sobely**2)\n",
    "angle = np.arctan2(sobely, sobelx) * (180 / np.pi)\n",
    "quantized_angle = np.zeros_like(angle, dtype=np.uint8)\n",
    "quantized_angle[np.where((angle >= -22.5) & (angle < 22.5))] = 0\n",
    "quantized_angle[np.where((angle >= 22.5) & (angle < 67.5))] = 1\n",
    "quantized_angle[np.where((angle >= 67.5) & (angle < 112.5))] = 2\n",
    "quantized_angle[np.where((angle >= 112.5) & (angle < 157.5))] = 3\n",
    "quantized_angle[np.where((angle >= 157.5) | (angle < -157.5))] = 4\n",
    "quantized_angle[np.where((angle >= -157.5) & (angle < -112.5))] = 5\n",
    "quantized_angle[np.where((angle >= -112.5) & (angle < -67.5))] = 6\n",
    "quantized_angle[np.where((angle >= -67.5) & (angle < -22.5))] = 7"
   ]
  },
  {
   "cell_type": "code",
   "execution_count": null,
   "metadata": {},
   "outputs": [],
   "source": [
    "def nonmax(magnitude, quantized_angle):\n",
    "    rows, cols = magnitude.shape\n",
    "    result = np.zeros((rows, cols), dtype=np.float32)\n",
    "\n",
    "    for i in range(1, rows - 1):\n",
    "        for j in range(1, cols - 1):\n",
    "            if quantized_angle[i, j] == 0:\n",
    "                neighbors = [magnitude[i, j - 1], magnitude[i, j + 1]]\n",
    "            elif quantized_angle[i, j] == 1:\n",
    "                neighbors = [magnitude[i - 1, j - 1], magnitude[i + 1, j + 1]]\n",
    "            elif quantized_angle[i, j] == 2:\n",
    "                neighbors = [magnitude[i - 1, j], magnitude[i + 1, j]]\n",
    "            else:\n",
    "                neighbors = [magnitude[i - 1, j + 1], magnitude[i + 1, j - 1]]\n",
    "\n",
    "            if magnitude[i, j] >= max(neighbors):\n",
    "                result[i, j] = magnitude[i, j]\n",
    "\n",
    "    return result\n"
   ]
  },
  {
   "cell_type": "code",
   "execution_count": null,
   "metadata": {},
   "outputs": [],
   "source": [
    "def hysteresis_thresholding(image, low_threshold, high_threshold):\n",
    "    rows, cols = image.shape\n",
    "    result = np.zeros((rows, cols), dtype=np.uint8)\n",
    "\n",
    "    strong_i, strong_j = np.where(image >= high_threshold)\n",
    "    weak_i, weak_j = np.where((image <= high_threshold) & (image >= low_threshold))\n",
    "\n",
    "    result[strong_i, strong_j] = 255\n",
    "    result[weak_i, weak_j] = 128 \n",
    "\n",
    "    return result"
   ]
  },
  {
   "cell_type": "code",
   "execution_count": null,
   "metadata": {},
   "outputs": [],
   "source": [
    "low_threshold = 50\n",
    "high_threshold = 150\n",
    "nonmax_magnitude = nonmax(magnitude, quantized_angle)\n",
    "\n",
    "\n",
    "canny_edges = hysteresis_thresholding(nonmax_magnitude, low_threshold, high_threshold)\n",
    "\n",
    "plt.imshow(canny_edges, cmap='gray')\n",
    "plt.axis('off')\n",
    "plt.show()\n"
   ]
  },
  {
   "cell_type": "markdown",
   "metadata": {
    "collapsed": false,
    "pycharm": {
     "name": "#%% md\n"
    }
   },
   "source": [
    "## Algorytm Canny'ego - OpenCV\n",
    "\n",
    "1. Wykonaj dektekcję krawędzi metodą Canny'ego wykorzystując funkcję `cv2.Canny`.\n",
    "    - Pierwszym argumentem funkcji jest obraz wejściowy.\n",
    "    - Drugim argumentem jest mniejszy próg.\n",
    "    - Trzecim argumentem jest większy próg.\n",
    "    - Czwarty argument to tablica, do której wpisany zostanie wynik.\n",
    "    Można zwrócić go przez wartość i podać wartość `None`.\n",
    "    - Piąty argument to rozmiar operatora Sobela (w naszym przypadku 3).\n",
    "    - Szósty argument to rodzaj używanej normy.\n",
    "    0 oznacza normę $L_1$, 1 oznacza normę $L_2$. Użyj $L_2$.\n",
    "2. Wynik wyświetl i porównaj z wykonaną częściową implementacją w poprzednim ćwiczeniu.\n",
    "Na czym polegają różnice?"
   ]
  },
  {
   "cell_type": "code",
   "execution_count": null,
   "metadata": {
    "collapsed": false,
    "pycharm": {
     "name": "#%% Zadanie 3 - Canny opencv\n"
    }
   },
   "outputs": [],
   "source": [
    "canny_edges_opencv = cv2.Canny(blurred, 50, 150, None, 3, L2gradient=True)\n",
    "\n",
    "plt.figure(figsize=(12, 6))\n",
    "\n",
    "plt.subplot(1, 2, 1)\n",
    "plt.imshow(canny_edges_opencv, cmap='gray')\n",
    "plt.title(\"Detekcja krawędzi Canny'ego (OpenCV)\")\n",
    "plt.axis('off')\n",
    "\n",
    "plt.subplot(1, 2, 2)\n",
    "plt.imshow(canny_edges, cmap='gray')\n",
    "plt.title(\"Detekcja krawędzi Canny'ego (implementacja własna)\")\n",
    "plt.axis('off')\n",
    "\n",
    "plt.show()\n"
   ]
  },
  {
   "cell_type": "markdown",
   "metadata": {},
   "source": [
    "W mojej implementacji, granice są bardziej wyraźne, wykrywa dach"
   ]
  }
 ],
 "metadata": {
  "kernelspec": {
   "display_name": "Python 3",
   "language": "python",
   "name": "python3"
  },
  "language_info": {
   "codemirror_mode": {
    "name": "ipython",
    "version": 3
   },
   "file_extension": ".py",
   "mimetype": "text/x-python",
   "name": "python",
   "nbconvert_exporter": "python",
   "pygments_lexer": "ipython3",
   "version": "3.12.0"
  }
 },
 "nbformat": 4,
 "nbformat_minor": 4
}
